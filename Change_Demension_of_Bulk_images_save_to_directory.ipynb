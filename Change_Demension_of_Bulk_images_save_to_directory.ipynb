{
 "cells": [
  {
   "cell_type": "code",
   "execution_count": 1,
   "metadata": {
    "collapsed": true
   },
   "outputs": [],
   "source": [
    "from PIL import Image\n",
    "import glob\n",
    "import os\n",
    "image_list = []\n",
    "outpath='/Volumes/ENTERTAINMENT/resized_image/'\n",
    "for filename in glob.glob('/Volumes/ENTERTAINMENT/proc123/*.jpg'):\n",
    "    img=Image.open(filename)\n",
    "    width,height=img.size\n",
    "    im=img.resize((256,256))\n",
    "    image_list.append(im)\n",
    "    save_fname = os.path.join(outpath, os.path.basename(filename)+'.jpg')\n",
    "    im.save(save_fname)"
   ]
  },
  {
   "cell_type": "code",
   "execution_count": null,
   "metadata": {
    "collapsed": true
   },
   "outputs": [],
   "source": []
  }
 ],
 "metadata": {
  "kernelspec": {
   "display_name": "Python 3",
   "language": "python",
   "name": "python3"
  },
  "language_info": {
   "codemirror_mode": {
    "name": "ipython",
    "version": 3
   },
   "file_extension": ".py",
   "mimetype": "text/x-python",
   "name": "python",
   "nbconvert_exporter": "python",
   "pygments_lexer": "ipython3",
   "version": "3.6.1"
  }
 },
 "nbformat": 4,
 "nbformat_minor": 2
}
